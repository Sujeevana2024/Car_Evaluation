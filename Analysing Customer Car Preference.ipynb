{
 "cells": [
  {
   "cell_type": "code",
   "execution_count": 26,
   "id": "9981edb4-6e41-46b8-a824-b17416ccdc18",
   "metadata": {},
   "outputs": [],
   "source": [
    "import pandas as pd\n",
    "import matplotlib.pyplot as plt\n",
    "import seaborn as sns\n",
    "import numpy as np\n",
    "%matplotlib inline"
   ]
  },
  {
   "cell_type": "code",
   "execution_count": 27,
   "id": "02c14937-e5f6-4abf-a757-6419bde10018",
   "metadata": {},
   "outputs": [
    {
     "data": {
      "text/html": [
       "<div>\n",
       "<style scoped>\n",
       "    .dataframe tbody tr th:only-of-type {\n",
       "        vertical-align: middle;\n",
       "    }\n",
       "\n",
       "    .dataframe tbody tr th {\n",
       "        vertical-align: top;\n",
       "    }\n",
       "\n",
       "    .dataframe thead th {\n",
       "        text-align: right;\n",
       "    }\n",
       "</style>\n",
       "<table border=\"1\" class=\"dataframe\">\n",
       "  <thead>\n",
       "    <tr style=\"text-align: right;\">\n",
       "      <th></th>\n",
       "      <th>vhigh</th>\n",
       "      <th>vhigh.1</th>\n",
       "      <th>2</th>\n",
       "      <th>2.1</th>\n",
       "      <th>small</th>\n",
       "      <th>low</th>\n",
       "      <th>unacc</th>\n",
       "    </tr>\n",
       "  </thead>\n",
       "  <tbody>\n",
       "    <tr>\n",
       "      <th>509</th>\n",
       "      <td>high</td>\n",
       "      <td>vhigh</td>\n",
       "      <td>4</td>\n",
       "      <td>more</td>\n",
       "      <td>big</td>\n",
       "      <td>low</td>\n",
       "      <td>unacc</td>\n",
       "    </tr>\n",
       "    <tr>\n",
       "      <th>275</th>\n",
       "      <td>vhigh</td>\n",
       "      <td>med</td>\n",
       "      <td>4</td>\n",
       "      <td>2</td>\n",
       "      <td>big</td>\n",
       "      <td>low</td>\n",
       "      <td>unacc</td>\n",
       "    </tr>\n",
       "    <tr>\n",
       "      <th>507</th>\n",
       "      <td>high</td>\n",
       "      <td>vhigh</td>\n",
       "      <td>4</td>\n",
       "      <td>more</td>\n",
       "      <td>med</td>\n",
       "      <td>med</td>\n",
       "      <td>unacc</td>\n",
       "    </tr>\n",
       "    <tr>\n",
       "      <th>436</th>\n",
       "      <td>high</td>\n",
       "      <td>vhigh</td>\n",
       "      <td>2</td>\n",
       "      <td>2</td>\n",
       "      <td>med</td>\n",
       "      <td>high</td>\n",
       "      <td>unacc</td>\n",
       "    </tr>\n",
       "    <tr>\n",
       "      <th>1222</th>\n",
       "      <td>med</td>\n",
       "      <td>low</td>\n",
       "      <td>3</td>\n",
       "      <td>2</td>\n",
       "      <td>big</td>\n",
       "      <td>high</td>\n",
       "      <td>unacc</td>\n",
       "    </tr>\n",
       "  </tbody>\n",
       "</table>\n",
       "</div>"
      ],
      "text/plain": [
       "      vhigh vhigh.1  2   2.1 small   low  unacc\n",
       "509    high   vhigh  4  more   big   low  unacc\n",
       "275   vhigh     med  4     2   big   low  unacc\n",
       "507    high   vhigh  4  more   med   med  unacc\n",
       "436    high   vhigh  2     2   med  high  unacc\n",
       "1222    med     low  3     2   big  high  unacc"
      ]
     },
     "execution_count": 27,
     "metadata": {},
     "output_type": "execute_result"
    }
   ],
   "source": [
    "df = pd.read_csv(r'car_evaluation.csv')\n",
    "df.sample(5)"
   ]
  },
  {
   "cell_type": "raw",
   "id": "9ece4eb6-f7a8-4256-86c5-653cc28c8d40",
   "metadata": {},
   "source": [
    "The goal is to predict the car's \"class\" (e.g., unacc, acc,good,vgood based on the other attributes.)"
   ]
  },
  {
   "cell_type": "code",
   "execution_count": 28,
   "id": "546db711-30c7-4063-811f-ae6413e8a7e0",
   "metadata": {},
   "outputs": [
    {
     "data": {
      "text/plain": [
       "(1727, 7)"
      ]
     },
     "execution_count": 28,
     "metadata": {},
     "output_type": "execute_result"
    }
   ],
   "source": [
    "df.shape"
   ]
  },
  {
   "cell_type": "code",
   "execution_count": 29,
   "id": "2d39a3a5-d873-4988-a982-a681a5d24c3d",
   "metadata": {},
   "outputs": [
    {
     "data": {
      "text/plain": [
       "vhigh      0\n",
       "vhigh.1    0\n",
       "2          0\n",
       "2.1        0\n",
       "small      0\n",
       "low        0\n",
       "unacc      0\n",
       "dtype: int64"
      ]
     },
     "execution_count": 29,
     "metadata": {},
     "output_type": "execute_result"
    }
   ],
   "source": [
    "df.isnull().sum()"
   ]
  },
  {
   "cell_type": "code",
   "execution_count": 30,
   "id": "761981ee-f749-45c0-b62d-395d4663a06a",
   "metadata": {},
   "outputs": [
    {
     "data": {
      "text/html": [
       "<div>\n",
       "<style scoped>\n",
       "    .dataframe tbody tr th:only-of-type {\n",
       "        vertical-align: middle;\n",
       "    }\n",
       "\n",
       "    .dataframe tbody tr th {\n",
       "        vertical-align: top;\n",
       "    }\n",
       "\n",
       "    .dataframe thead th {\n",
       "        text-align: right;\n",
       "    }\n",
       "</style>\n",
       "<table border=\"1\" class=\"dataframe\">\n",
       "  <thead>\n",
       "    <tr style=\"text-align: right;\">\n",
       "      <th></th>\n",
       "      <th>vhigh</th>\n",
       "      <th>vhigh.1</th>\n",
       "      <th>2</th>\n",
       "      <th>2.1</th>\n",
       "      <th>small</th>\n",
       "      <th>low</th>\n",
       "      <th>unacc</th>\n",
       "    </tr>\n",
       "  </thead>\n",
       "  <tbody>\n",
       "    <tr>\n",
       "      <th>count</th>\n",
       "      <td>1727</td>\n",
       "      <td>1727</td>\n",
       "      <td>1727</td>\n",
       "      <td>1727</td>\n",
       "      <td>1727</td>\n",
       "      <td>1727</td>\n",
       "      <td>1727</td>\n",
       "    </tr>\n",
       "    <tr>\n",
       "      <th>unique</th>\n",
       "      <td>4</td>\n",
       "      <td>4</td>\n",
       "      <td>4</td>\n",
       "      <td>3</td>\n",
       "      <td>3</td>\n",
       "      <td>3</td>\n",
       "      <td>4</td>\n",
       "    </tr>\n",
       "    <tr>\n",
       "      <th>top</th>\n",
       "      <td>high</td>\n",
       "      <td>high</td>\n",
       "      <td>3</td>\n",
       "      <td>4</td>\n",
       "      <td>med</td>\n",
       "      <td>med</td>\n",
       "      <td>unacc</td>\n",
       "    </tr>\n",
       "    <tr>\n",
       "      <th>freq</th>\n",
       "      <td>432</td>\n",
       "      <td>432</td>\n",
       "      <td>432</td>\n",
       "      <td>576</td>\n",
       "      <td>576</td>\n",
       "      <td>576</td>\n",
       "      <td>1209</td>\n",
       "    </tr>\n",
       "  </tbody>\n",
       "</table>\n",
       "</div>"
      ],
      "text/plain": [
       "       vhigh vhigh.1     2   2.1 small   low  unacc\n",
       "count   1727    1727  1727  1727  1727  1727   1727\n",
       "unique     4       4     4     3     3     3      4\n",
       "top     high    high     3     4   med   med  unacc\n",
       "freq     432     432   432   576   576   576   1209"
      ]
     },
     "execution_count": 30,
     "metadata": {},
     "output_type": "execute_result"
    }
   ],
   "source": [
    "df.describe()"
   ]
  },
  {
   "cell_type": "code",
   "execution_count": 31,
   "id": "dd2ad056-ea80-4e2f-9be9-0b42d793fe75",
   "metadata": {},
   "outputs": [
    {
     "data": {
      "text/html": [
       "<div>\n",
       "<style scoped>\n",
       "    .dataframe tbody tr th:only-of-type {\n",
       "        vertical-align: middle;\n",
       "    }\n",
       "\n",
       "    .dataframe tbody tr th {\n",
       "        vertical-align: top;\n",
       "    }\n",
       "\n",
       "    .dataframe thead th {\n",
       "        text-align: right;\n",
       "    }\n",
       "</style>\n",
       "<table border=\"1\" class=\"dataframe\">\n",
       "  <thead>\n",
       "    <tr style=\"text-align: right;\">\n",
       "      <th></th>\n",
       "      <th>buying</th>\n",
       "      <th>maint</th>\n",
       "      <th>doors</th>\n",
       "      <th>persons</th>\n",
       "      <th>lug_boot</th>\n",
       "      <th>safety</th>\n",
       "      <th>class</th>\n",
       "    </tr>\n",
       "  </thead>\n",
       "  <tbody>\n",
       "    <tr>\n",
       "      <th>0</th>\n",
       "      <td>vhigh</td>\n",
       "      <td>vhigh</td>\n",
       "      <td>2</td>\n",
       "      <td>2</td>\n",
       "      <td>small</td>\n",
       "      <td>med</td>\n",
       "      <td>unacc</td>\n",
       "    </tr>\n",
       "    <tr>\n",
       "      <th>1</th>\n",
       "      <td>vhigh</td>\n",
       "      <td>vhigh</td>\n",
       "      <td>2</td>\n",
       "      <td>2</td>\n",
       "      <td>small</td>\n",
       "      <td>high</td>\n",
       "      <td>unacc</td>\n",
       "    </tr>\n",
       "    <tr>\n",
       "      <th>2</th>\n",
       "      <td>vhigh</td>\n",
       "      <td>vhigh</td>\n",
       "      <td>2</td>\n",
       "      <td>2</td>\n",
       "      <td>med</td>\n",
       "      <td>low</td>\n",
       "      <td>unacc</td>\n",
       "    </tr>\n",
       "    <tr>\n",
       "      <th>3</th>\n",
       "      <td>vhigh</td>\n",
       "      <td>vhigh</td>\n",
       "      <td>2</td>\n",
       "      <td>2</td>\n",
       "      <td>med</td>\n",
       "      <td>med</td>\n",
       "      <td>unacc</td>\n",
       "    </tr>\n",
       "    <tr>\n",
       "      <th>4</th>\n",
       "      <td>vhigh</td>\n",
       "      <td>vhigh</td>\n",
       "      <td>2</td>\n",
       "      <td>2</td>\n",
       "      <td>med</td>\n",
       "      <td>high</td>\n",
       "      <td>unacc</td>\n",
       "    </tr>\n",
       "  </tbody>\n",
       "</table>\n",
       "</div>"
      ],
      "text/plain": [
       "  buying  maint doors persons lug_boot safety  class\n",
       "0  vhigh  vhigh     2       2    small    med  unacc\n",
       "1  vhigh  vhigh     2       2    small   high  unacc\n",
       "2  vhigh  vhigh     2       2      med    low  unacc\n",
       "3  vhigh  vhigh     2       2      med    med  unacc\n",
       "4  vhigh  vhigh     2       2      med   high  unacc"
      ]
     },
     "execution_count": 31,
     "metadata": {},
     "output_type": "execute_result"
    }
   ],
   "source": [
    "col_names = ['buying', 'maint', 'doors', 'persons', 'lug_boot', 'safety', 'class']\n",
    "df.columns = col_names\n",
    "df.head()"
   ]
  },
  {
   "cell_type": "code",
   "execution_count": 32,
   "id": "4f132338-0259-44c2-881c-53e609809675",
   "metadata": {},
   "outputs": [
    {
     "name": "stdout",
     "output_type": "stream",
     "text": [
      "<class 'pandas.core.frame.DataFrame'>\n",
      "RangeIndex: 1727 entries, 0 to 1726\n",
      "Data columns (total 7 columns):\n",
      " #   Column    Non-Null Count  Dtype \n",
      "---  ------    --------------  ----- \n",
      " 0   buying    1727 non-null   object\n",
      " 1   maint     1727 non-null   object\n",
      " 2   doors     1727 non-null   object\n",
      " 3   persons   1727 non-null   object\n",
      " 4   lug_boot  1727 non-null   object\n",
      " 5   safety    1727 non-null   object\n",
      " 6   class     1727 non-null   object\n",
      "dtypes: object(7)\n",
      "memory usage: 94.6+ KB\n"
     ]
    }
   ],
   "source": [
    "df.info()"
   ]
  },
  {
   "cell_type": "code",
   "execution_count": 33,
   "id": "bfbb331e-48d5-47f3-8532-734acb237ea1",
   "metadata": {},
   "outputs": [
    {
     "data": {
      "text/plain": [
       "buying      object\n",
       "maint       object\n",
       "doors       object\n",
       "persons     object\n",
       "lug_boot    object\n",
       "safety      object\n",
       "class       object\n",
       "dtype: object"
      ]
     },
     "execution_count": 33,
     "metadata": {},
     "output_type": "execute_result"
    }
   ],
   "source": [
    "df.dtypes"
   ]
  },
  {
   "cell_type": "raw",
   "id": "973a2637-7060-4373-b8be-9de44d15875e",
   "metadata": {},
   "source": [
    "All are categorical features"
   ]
  },
  {
   "cell_type": "code",
   "execution_count": 52,
   "id": "dc0db737-53de-4fff-bc0c-deb921b86289",
   "metadata": {},
   "outputs": [],
   "source": [
    "df['class'] = df['class'].replace({'good': 'acc', 'vgood': 'acc'})"
   ]
  },
  {
   "cell_type": "code",
   "execution_count": 54,
   "id": "93260167-7a5f-40f4-b3b5-28447c8da236",
   "metadata": {},
   "outputs": [
    {
     "data": {
      "text/plain": [
       "class\n",
       "unacc    1209\n",
       "acc       518\n",
       "Name: count, dtype: int64"
      ]
     },
     "execution_count": 54,
     "metadata": {},
     "output_type": "execute_result"
    }
   ],
   "source": [
    "df['class'].value_counts()"
   ]
  },
  {
   "cell_type": "code",
   "execution_count": 221,
   "id": "3e19274e-754d-40d4-9a89-eeb9383d331a",
   "metadata": {},
   "outputs": [
    {
     "data": {
      "text/html": [
       "<div>\n",
       "<style scoped>\n",
       "    .dataframe tbody tr th:only-of-type {\n",
       "        vertical-align: middle;\n",
       "    }\n",
       "\n",
       "    .dataframe tbody tr th {\n",
       "        vertical-align: top;\n",
       "    }\n",
       "\n",
       "    .dataframe thead th {\n",
       "        text-align: right;\n",
       "    }\n",
       "</style>\n",
       "<table border=\"1\" class=\"dataframe\">\n",
       "  <thead>\n",
       "    <tr style=\"text-align: right;\">\n",
       "      <th></th>\n",
       "      <th>buying</th>\n",
       "      <th>maint</th>\n",
       "      <th>doors</th>\n",
       "      <th>persons</th>\n",
       "      <th>lug_boot</th>\n",
       "      <th>safety</th>\n",
       "      <th>class</th>\n",
       "    </tr>\n",
       "  </thead>\n",
       "  <tbody>\n",
       "    <tr>\n",
       "      <th>1250</th>\n",
       "      <td>med</td>\n",
       "      <td>low</td>\n",
       "      <td>4</td>\n",
       "      <td>4</td>\n",
       "      <td>small</td>\n",
       "      <td>low</td>\n",
       "      <td>unacc</td>\n",
       "    </tr>\n",
       "  </tbody>\n",
       "</table>\n",
       "</div>"
      ],
      "text/plain": [
       "     buying maint doors persons lug_boot safety  class\n",
       "1250    med   low     4       4    small    low  unacc"
      ]
     },
     "execution_count": 221,
     "metadata": {},
     "output_type": "execute_result"
    }
   ],
   "source": [
    "df.sample()"
   ]
  },
  {
   "cell_type": "code",
   "execution_count": 223,
   "id": "83fb2f41-56d9-4a8d-a4d4-0f66121ad0d4",
   "metadata": {},
   "outputs": [],
   "source": [
    "x = df.drop(df.columns[-1],axis=1)\n",
    "y = df['class']"
   ]
  },
  {
   "cell_type": "code",
   "execution_count": 12,
   "id": "74b9e502-8f2c-4ee0-9193-1baa1974aed5",
   "metadata": {},
   "outputs": [
    {
     "data": {
      "text/html": [
       "<div>\n",
       "<style scoped>\n",
       "    .dataframe tbody tr th:only-of-type {\n",
       "        vertical-align: middle;\n",
       "    }\n",
       "\n",
       "    .dataframe tbody tr th {\n",
       "        vertical-align: top;\n",
       "    }\n",
       "\n",
       "    .dataframe thead th {\n",
       "        text-align: right;\n",
       "    }\n",
       "</style>\n",
       "<table border=\"1\" class=\"dataframe\">\n",
       "  <thead>\n",
       "    <tr style=\"text-align: right;\">\n",
       "      <th></th>\n",
       "      <th>buying</th>\n",
       "      <th>maint</th>\n",
       "      <th>doors</th>\n",
       "      <th>persons</th>\n",
       "      <th>lug_boot</th>\n",
       "      <th>safety</th>\n",
       "    </tr>\n",
       "  </thead>\n",
       "  <tbody>\n",
       "    <tr>\n",
       "      <th>505</th>\n",
       "      <td>0.0</td>\n",
       "      <td>3.0</td>\n",
       "      <td>2.0</td>\n",
       "      <td>2.0</td>\n",
       "      <td>2.0</td>\n",
       "      <td>0.0</td>\n",
       "    </tr>\n",
       "  </tbody>\n",
       "</table>\n",
       "</div>"
      ],
      "text/plain": [
       "     buying  maint  doors  persons  lug_boot  safety\n",
       "505     0.0    3.0    2.0      2.0       2.0     0.0"
      ]
     },
     "execution_count": 12,
     "metadata": {},
     "output_type": "execute_result"
    }
   ],
   "source": [
    "from sklearn.preprocessing import OrdinalEncoder as oe\n",
    "encoder = oe()\n",
    "x_encode = encoder.fit_transform(x)\n",
    "x1 = pd.DataFrame(x_encode,columns = encoder.get_feature_names_out(x.columns))\n",
    "x1.sample()"
   ]
  },
  {
   "cell_type": "code",
   "execution_count": 13,
   "id": "7fc40be3-5833-4d30-a125-1a7aaf60796b",
   "metadata": {},
   "outputs": [
    {
     "data": {
      "text/html": [
       "<div>\n",
       "<style scoped>\n",
       "    .dataframe tbody tr th:only-of-type {\n",
       "        vertical-align: middle;\n",
       "    }\n",
       "\n",
       "    .dataframe tbody tr th {\n",
       "        vertical-align: top;\n",
       "    }\n",
       "\n",
       "    .dataframe thead th {\n",
       "        text-align: right;\n",
       "    }\n",
       "</style>\n",
       "<table border=\"1\" class=\"dataframe\">\n",
       "  <thead>\n",
       "    <tr style=\"text-align: right;\">\n",
       "      <th></th>\n",
       "      <th>0</th>\n",
       "    </tr>\n",
       "  </thead>\n",
       "  <tbody>\n",
       "    <tr>\n",
       "      <th>937</th>\n",
       "      <td>0</td>\n",
       "    </tr>\n",
       "  </tbody>\n",
       "</table>\n",
       "</div>"
      ],
      "text/plain": [
       "     0\n",
       "937  0"
      ]
     },
     "execution_count": 13,
     "metadata": {},
     "output_type": "execute_result"
    }
   ],
   "source": [
    "## Label encoding\n",
    "from sklearn.preprocessing import LabelEncoder as le\n",
    "encoder = le()\n",
    "y_encode = encoder.fit_transform(y)\n",
    "y1 = pd.DataFrame(y_encode)\n",
    "y1.sample()"
   ]
  },
  {
   "cell_type": "code",
   "execution_count": 14,
   "id": "76c37c0c-77ef-464d-aa6c-63040ee13d0a",
   "metadata": {},
   "outputs": [
    {
     "data": {
      "text/plain": [
       "buying      float64\n",
       "maint       float64\n",
       "doors       float64\n",
       "persons     float64\n",
       "lug_boot    float64\n",
       "safety      float64\n",
       "dtype: object"
      ]
     },
     "execution_count": 14,
     "metadata": {},
     "output_type": "execute_result"
    }
   ],
   "source": [
    "x1.dtypes"
   ]
  },
  {
   "cell_type": "code",
   "execution_count": 15,
   "id": "535764b8-4bd5-4fe1-898d-464e2f3298f9",
   "metadata": {},
   "outputs": [
    {
     "data": {
      "text/plain": [
       "0    int32\n",
       "dtype: object"
      ]
     },
     "execution_count": 15,
     "metadata": {},
     "output_type": "execute_result"
    }
   ],
   "source": [
    "y1.dtypes"
   ]
  },
  {
   "cell_type": "code",
   "execution_count": 16,
   "id": "ee93c940-5c97-48b1-b82f-9c3f672a7ab8",
   "metadata": {},
   "outputs": [],
   "source": [
    "from sklearn.model_selection import train_test_split\n",
    "x_train,x_test,y_train,y_test = train_test_split(x1,y1)"
   ]
  },
  {
   "cell_type": "code",
   "execution_count": 17,
   "id": "84591d31-c25d-4b6b-9983-896343fc383b",
   "metadata": {},
   "outputs": [],
   "source": [
    "from sklearn.tree import DecisionTreeClassifier as dtc\n",
    "clf = dtc(criterion = 'gini' , max_depth = 3 , random_state = 42)\n",
    "clf_gini = clf.fit(x_train,y_train)\n",
    "train_pred = clf_gini.predict(x_train)"
   ]
  },
  {
   "cell_type": "code",
   "execution_count": 18,
   "id": "a537207f-600e-4225-a398-da2a98e3010f",
   "metadata": {},
   "outputs": [
    {
     "name": "stdout",
     "output_type": "stream",
     "text": [
      " The Accuracy Score for train data prediction is 0.7814671814671814\n"
     ]
    }
   ],
   "source": [
    "## Accuracy test for train data\n",
    "from sklearn.metrics import accuracy_score\n",
    "accuracy_train = accuracy_score(y_train,train_pred)\n",
    "print(f\" The Accuracy Score for train data prediction is {accuracy_train}\")"
   ]
  },
  {
   "cell_type": "code",
   "execution_count": 19,
   "id": "6831a9ab-3e79-4a4f-97bf-7132d5441336",
   "metadata": {},
   "outputs": [
    {
     "name": "stdout",
     "output_type": "stream",
     "text": [
      " The Accuracy Score for train data prediction is 0.7754629629629629\n"
     ]
    }
   ],
   "source": [
    "## Accuracy test for test data\n",
    "test_predict = clf_gini.predict(x_test)\n",
    "accuracy_test = accuracy_score(y_test,test_predict)\n",
    "print(f\" The Accuracy Score for train data prediction is {accuracy_test}\")"
   ]
  },
  {
   "cell_type": "raw",
   "id": "25db69ab-082e-4bcd-9ec8-a2fb671b7119",
   "metadata": {},
   "source": [
    "As it is performing equally well in both train and test data . This model is not over fitting."
   ]
  },
  {
   "cell_type": "code",
   "execution_count": 40,
   "id": "2015f9d5-6e17-43db-aedd-ea152c6496ff",
   "metadata": {},
   "outputs": [
    {
     "name": "stdout",
     "output_type": "stream",
     "text": [
      "Training data accuracy score : 0.7815\n",
      "Test data accuracy score : 0.7755\n"
     ]
    }
   ],
   "source": [
    "## Checking for overfit and underfit\n",
    "print('Training data accuracy score : {:.4f}'.format(accuracy_train))\n",
    "print('Test data accuracy score : {:.4f}'.format(accuracy_test))"
   ]
  },
  {
   "cell_type": "raw",
   "id": "dc936c48-cacf-40d0-8855-6051d236a4f5",
   "metadata": {},
   "source": [
    "Here, the training-set accuracy score is 0.7865 while the test-set accuracy to be 0.8021. \n",
    "These two values are quite comparable. So, there is no sign of overfitting. "
   ]
  },
  {
   "cell_type": "markdown",
   "id": "48f0a8d7-a65a-4638-b970-e707a36d6931",
   "metadata": {},
   "source": [
    "## Visualisation of decision tree"
   ]
  },
  {
   "cell_type": "code",
   "execution_count": 47,
   "id": "9ad7cbee-ff19-4b78-8ac9-e2ffd7a1ebb7",
   "metadata": {},
   "outputs": [
    {
     "data": {
      "text/plain": [
       "[Text(0.375, 0.875, 'x[3] <= 0.5\\ngini = 0.453\\nsamples = 1295\\nvalue = [282, 50, 913, 50]'),\n",
       " Text(0.25, 0.625, 'gini = 0.0\\nsamples = 434\\nvalue = [0, 0, 434, 0]'),\n",
       " Text(0.5, 0.625, 'x[5] <= 0.5\\ngini = 0.576\\nsamples = 861\\nvalue = [282, 50, 479, 50]'),\n",
       " Text(0.25, 0.375, 'x[1] <= 2.5\\ngini = 0.648\\nsamples = 286\\nvalue = [144, 20, 72, 50]'),\n",
       " Text(0.125, 0.125, 'gini = 0.635\\nsamples = 206\\nvalue = [109, 20, 27, 50]'),\n",
       " Text(0.375, 0.125, 'gini = 0.492\\nsamples = 80\\nvalue = [35, 0, 45, 0]'),\n",
       " Text(0.75, 0.375, 'x[5] <= 1.5\\ngini = 0.439\\nsamples = 575\\nvalue = [138, 30, 407, 0]'),\n",
       " Text(0.625, 0.125, 'gini = 0.0\\nsamples = 286\\nvalue = [0, 0, 286, 0]'),\n",
       " Text(0.875, 0.125, 'gini = 0.586\\nsamples = 289\\nvalue = [138, 30, 121, 0]')]"
      ]
     },
     "execution_count": 47,
     "metadata": {},
     "output_type": "execute_result"
    },
    {
     "data": {
      "image/png": "[encoded data removed]",
      "text/plain": [
       "<Figure size 1200x800 with 1 Axes>"
      ]
     },
     "metadata": {},
     "output_type": "display_data"
    }
   ],
   "source": [
    "plt.figure(figsize = (12,8))\n",
    "from sklearn import  tree\n",
    "tree.plot_tree(clf.fit(x_train,y_train))"
   ]
  },
  {
   "cell_type": "markdown",
   "id": "ba23425a-1ba9-4183-a91d-eae2e7210b07",
   "metadata": {},
   "source": [
    "# Entrophy"
   ]
  },
  {
   "cell_type": "code",
   "execution_count": 59,
   "id": "6e5cab25-7522-4e0b-93a1-ff788e8c766f",
   "metadata": {},
   "outputs": [],
   "source": [
    "ent = dtc(criterion = 'entropy',max_depth = 3 , random_state = 0)\n",
    "ent.fit(x_train,y_train)"
   ]
  },
  {
   "cell_type": "code",
   "execution_count": 63,
   "id": "c47f7726-3078-4bcc-9ea2-94df1aba8c26",
   "metadata": {},
   "outputs": [],
   "source": [
    "y_predict =  ent.predict(x_test)"
   ]
  },
  {
   "cell_type": "code",
   "execution_count": 65,
   "id": "9b511993-210c-40ab-ac87-685cd01a2889",
   "metadata": {},
   "outputs": [
    {
     "name": "stdout",
     "output_type": "stream",
     "text": [
      "Model Accuracy with criterion entrophy : 0.7755\n"
     ]
    }
   ],
   "source": [
    "from sklearn.metrics import accuracy_score\n",
    "print('Model Accuracy with criterion entrophy : {:.4f}'.format(accuracy_score(y_test,y_predict)))"
   ]
  },
  {
   "cell_type": "code",
   "execution_count": 67,
   "id": "c162d849-de6e-4285-8f95-ec819749e57e",
   "metadata": {},
   "outputs": [],
   "source": [
    "## Compare train and test accuracy\n",
    "y_train_predict = ent.predict(x_train)"
   ]
  },
  {
   "cell_type": "code",
   "execution_count": 73,
   "id": "fe841c25-773e-4637-a798-56edb155e0b4",
   "metadata": {},
   "outputs": [
    {
     "name": "stdout",
     "output_type": "stream",
     "text": [
      "train data accuracy score : 0.7815\n",
      "test data accuracy score : 0.7755\n"
     ]
    }
   ],
   "source": [
    "## Compare train and test accuracy score\n",
    "print('train data accuracy score : {:.4f}'.format(accuracy_score(y_train_predict,y_train)))\n",
    "print('test data accuracy score : {:.4f}'.format(accuracy_score(y_predict,y_test)))"
   ]
  },
  {
   "cell_type": "raw",
   "id": "dbfffcba-0ee7-4deb-9b10-7d498039e22e",
   "metadata": {},
   "source": [
    "We can see that the training-set score and test-set score is same as above. \n",
    "The training-set accuracy score is 0.7865 while the test-set accuracy to be 0.8021. \n",
    "These two values are quite comparable. So, there is no sign of overfitting."
   ]
  },
  {
   "cell_type": "code",
   "execution_count": 77,
   "id": "11a86b94-518a-49f9-a94d-09490df7231e",
   "metadata": {},
   "outputs": [
    {
     "data": {
      "text/plain": [
       "[Text(0.375, 0.875, 'x[3] <= 0.5\\nentropy = 1.197\\nsamples = 1295\\nvalue = [282, 50, 913, 50]'),\n",
       " Text(0.25, 0.625, 'entropy = 0.0\\nsamples = 434\\nvalue = [0, 0, 434, 0]'),\n",
       " Text(0.5, 0.625, 'x[5] <= 0.5\\nentropy = 1.475\\nsamples = 861\\nvalue = [282, 50, 479, 50]'),\n",
       " Text(0.25, 0.375, 'x[1] <= 2.5\\nentropy = 1.708\\nsamples = 286\\nvalue = [144, 20, 72, 50]'),\n",
       " Text(0.125, 0.125, 'entropy = 1.693\\nsamples = 206\\nvalue = [109, 20, 27, 50]'),\n",
       " Text(0.375, 0.125, 'entropy = 0.989\\nsamples = 80\\nvalue = [35, 0, 45, 0]'),\n",
       " Text(0.75, 0.375, 'x[5] <= 1.5\\nentropy = 1.069\\nsamples = 575\\nvalue = [138, 30, 407, 0]'),\n",
       " Text(0.625, 0.125, 'entropy = 0.0\\nsamples = 286\\nvalue = [0, 0, 286, 0]'),\n",
       " Text(0.875, 0.125, 'entropy = 1.374\\nsamples = 289\\nvalue = [138, 30, 121, 0]')]"
      ]
     },
     "execution_count": 77,
     "metadata": {},
     "output_type": "execute_result"
    },
    {
     "data": {
      "image/png": "[encoded data removed]",
      "text/plain": [
       "<Figure size 1200x800 with 1 Axes>"
      ]
     },
     "metadata": {},
     "output_type": "display_data"
    }
   ],
   "source": [
    "## visualisation of decision tree\n",
    "from sklearn import tree\n",
    "plt.figure(figsize = (12,8))\n",
    "tree.plot_tree(ent.fit(x_train,y_train))"
   ]
  },
  {
   "cell_type": "code",
   "execution_count": 79,
   "id": "5220b719-240b-4442-91e0-efdf096de9db",
   "metadata": {},
   "outputs": [
    {
     "data": {
      "text/plain": [
       "array([[ 91,   0,  11,   0],\n",
       "       [ 19,   0,   0,   0],\n",
       "       [ 52,   0, 244,   0],\n",
       "       [ 15,   0,   0,   0]], dtype=int64)"
      ]
     },
     "execution_count": 79,
     "metadata": {},
     "output_type": "execute_result"
    }
   ],
   "source": [
    "from sklearn.metrics import confusion_matrix\n",
    "cm = confusion_matrix(y_test,y_predict)\n",
    "cm"
   ]
  },
  {
   "cell_type": "code",
   "execution_count": 89,
   "id": "521b4032-2040-4da5-a595-8601047c3740",
   "metadata": {},
   "outputs": [
    {
     "name": "stdout",
     "output_type": "stream",
     "text": [
      "              precision    recall  f1-score   support\n",
      "\n",
      "           0       0.51      0.89      0.65       102\n",
      "           1       0.00      0.00      0.00        19\n",
      "           2       0.96      0.82      0.89       296\n",
      "           3       0.00      0.00      0.00        15\n",
      "\n",
      "    accuracy                           0.78       432\n",
      "   macro avg       0.37      0.43      0.38       432\n",
      "weighted avg       0.78      0.78      0.76       432\n",
      "\n"
     ]
    }
   ],
   "source": [
    "import warnings\n",
    "warnings.filterwarnings('ignore')\n",
    "from sklearn.metrics import classification_report\n",
    "print(classification_report(y_test,y_predict))"
   ]
  },
  {
   "cell_type": "raw",
   "id": "d36ffd75-76e9-4ec5-a338-817453396e2d",
   "metadata": {},
   "source": [
    "In this project I build a Decision Tree Classifier to predict the car safety of the car.\n",
    "I build two models, one with criterion gini index and another one with criterion entropy.\n",
    "The model yields very good performance as indicated by the model accuracy in both cases."
   ]
  },
  {
   "cell_type": "markdown",
   "id": "5a9b6dd0-13b0-40b6-bc28-b1c041f341b4",
   "metadata": {},
   "source": [
    "## Classification with KNNCLASSIFIER"
   ]
  },
  {
   "cell_type": "code",
   "execution_count": 141,
   "id": "9a4ca990-7b9d-44c0-95f2-e7d1ad9d206a",
   "metadata": {},
   "outputs": [],
   "source": [
    "from sklearn.neighbors import KNeighborsClassifier as knc\n",
    "from sklearn.metrics import f1_score"
   ]
  },
  {
   "cell_type": "code",
   "execution_count": 225,
   "id": "69d6755c-a848-4fd4-b735-24b0f0424bc4",
   "metadata": {},
   "outputs": [
    {
     "data": {
      "text/plain": [
       "class\n",
       "unacc    1209\n",
       "acc       384\n",
       "good       69\n",
       "vgood      65\n",
       "Name: count, dtype: int64"
      ]
     },
     "execution_count": 225,
     "metadata": {},
     "output_type": "execute_result"
    }
   ],
   "source": [
    "\n",
    "df1 = df\n",
    "df1['class'].value_counts()"
   ]
  },
  {
   "cell_type": "code",
   "execution_count": 231,
   "id": "88118043-3887-4ab8-a82a-6c128d845e4e",
   "metadata": {},
   "outputs": [
    {
     "data": {
      "text/plain": [
       "class\n",
       "unacc    1209\n",
       "acc       518\n",
       "Name: count, dtype: int64"
      ]
     },
     "execution_count": 231,
     "metadata": {},
     "output_type": "execute_result"
    }
   ],
   "source": [
    "df1['class'] = df1['class'].replace('vgood','acc')\n",
    "df1['class'] = df1['class'].replace('good','acc')\n",
    "df1['class'].value_counts()"
   ]
  },
  {
   "cell_type": "code",
   "execution_count": 233,
   "id": "038cd0df-b918-41d1-8ccc-7ecf484b1d0a",
   "metadata": {},
   "outputs": [
    {
     "data": {
      "text/html": [
       "<div>\n",
       "<style scoped>\n",
       "    .dataframe tbody tr th:only-of-type {\n",
       "        vertical-align: middle;\n",
       "    }\n",
       "\n",
       "    .dataframe tbody tr th {\n",
       "        vertical-align: top;\n",
       "    }\n",
       "\n",
       "    .dataframe thead th {\n",
       "        text-align: right;\n",
       "    }\n",
       "</style>\n",
       "<table border=\"1\" class=\"dataframe\">\n",
       "  <thead>\n",
       "    <tr style=\"text-align: right;\">\n",
       "      <th></th>\n",
       "      <th>buying</th>\n",
       "      <th>maint</th>\n",
       "      <th>doors</th>\n",
       "      <th>persons</th>\n",
       "      <th>lug_boot</th>\n",
       "      <th>safety</th>\n",
       "      <th>class</th>\n",
       "    </tr>\n",
       "  </thead>\n",
       "  <tbody>\n",
       "    <tr>\n",
       "      <th>0</th>\n",
       "      <td>vhigh</td>\n",
       "      <td>vhigh</td>\n",
       "      <td>2</td>\n",
       "      <td>2</td>\n",
       "      <td>small</td>\n",
       "      <td>med</td>\n",
       "      <td>unacc</td>\n",
       "    </tr>\n",
       "    <tr>\n",
       "      <th>1</th>\n",
       "      <td>vhigh</td>\n",
       "      <td>vhigh</td>\n",
       "      <td>2</td>\n",
       "      <td>2</td>\n",
       "      <td>small</td>\n",
       "      <td>high</td>\n",
       "      <td>unacc</td>\n",
       "    </tr>\n",
       "    <tr>\n",
       "      <th>2</th>\n",
       "      <td>vhigh</td>\n",
       "      <td>vhigh</td>\n",
       "      <td>2</td>\n",
       "      <td>2</td>\n",
       "      <td>med</td>\n",
       "      <td>low</td>\n",
       "      <td>unacc</td>\n",
       "    </tr>\n",
       "    <tr>\n",
       "      <th>3</th>\n",
       "      <td>vhigh</td>\n",
       "      <td>vhigh</td>\n",
       "      <td>2</td>\n",
       "      <td>2</td>\n",
       "      <td>med</td>\n",
       "      <td>med</td>\n",
       "      <td>unacc</td>\n",
       "    </tr>\n",
       "    <tr>\n",
       "      <th>4</th>\n",
       "      <td>vhigh</td>\n",
       "      <td>vhigh</td>\n",
       "      <td>2</td>\n",
       "      <td>2</td>\n",
       "      <td>med</td>\n",
       "      <td>high</td>\n",
       "      <td>unacc</td>\n",
       "    </tr>\n",
       "  </tbody>\n",
       "</table>\n",
       "</div>"
      ],
      "text/plain": [
       "  buying  maint doors persons lug_boot safety  class\n",
       "0  vhigh  vhigh     2       2    small    med  unacc\n",
       "1  vhigh  vhigh     2       2    small   high  unacc\n",
       "2  vhigh  vhigh     2       2      med    low  unacc\n",
       "3  vhigh  vhigh     2       2      med    med  unacc\n",
       "4  vhigh  vhigh     2       2      med   high  unacc"
      ]
     },
     "execution_count": 233,
     "metadata": {},
     "output_type": "execute_result"
    }
   ],
   "source": [
    "df1.head()"
   ]
  },
  {
   "cell_type": "code",
   "execution_count": 247,
   "id": "505afd0b-d209-4f8b-93a5-1994fb5f77bb",
   "metadata": {},
   "outputs": [
    {
     "data": {
      "text/plain": [
       "((1727, 6), (1727,))"
      ]
     },
     "execution_count": 247,
     "metadata": {},
     "output_type": "execute_result"
    }
   ],
   "source": [
    "x = df1.drop(df1.columns[-1],axis=1)\n",
    "y = df1['class']\n",
    "x.shape,y.shape"
   ]
  },
  {
   "cell_type": "code",
   "execution_count": 261,
   "id": "70e0058b-c6c1-47a3-837f-6eb0841020af",
   "metadata": {},
   "outputs": [
    {
     "data": {
      "text/html": [
       "<div>\n",
       "<style scoped>\n",
       "    .dataframe tbody tr th:only-of-type {\n",
       "        vertical-align: middle;\n",
       "    }\n",
       "\n",
       "    .dataframe tbody tr th {\n",
       "        vertical-align: top;\n",
       "    }\n",
       "\n",
       "    .dataframe thead th {\n",
       "        text-align: right;\n",
       "    }\n",
       "</style>\n",
       "<table border=\"1\" class=\"dataframe\">\n",
       "  <thead>\n",
       "    <tr style=\"text-align: right;\">\n",
       "      <th></th>\n",
       "      <th>buying</th>\n",
       "      <th>maint</th>\n",
       "      <th>doors</th>\n",
       "      <th>persons</th>\n",
       "      <th>lug_boot</th>\n",
       "      <th>safety</th>\n",
       "    </tr>\n",
       "  </thead>\n",
       "  <tbody>\n",
       "    <tr>\n",
       "      <th>317</th>\n",
       "      <td>3.0</td>\n",
       "      <td>2.0</td>\n",
       "      <td>3.0</td>\n",
       "      <td>2.0</td>\n",
       "      <td>1.0</td>\n",
       "      <td>1.0</td>\n",
       "    </tr>\n",
       "  </tbody>\n",
       "</table>\n",
       "</div>"
      ],
      "text/plain": [
       "     buying  maint  doors  persons  lug_boot  safety\n",
       "317     3.0    2.0    3.0      2.0       1.0     1.0"
      ]
     },
     "execution_count": 261,
     "metadata": {},
     "output_type": "execute_result"
    }
   ],
   "source": [
    "from sklearn.preprocessing import OrdinalEncoder as oe\n",
    "encode = oe()\n",
    "x_code = encode.fit_transform(x)\n",
    "x_code = pd.DataFrame(x_code,columns = encode.get_feature_names_out(x.columns))\n",
    "x_code.sample()"
   ]
  },
  {
   "cell_type": "code",
   "execution_count": 263,
   "id": "93edd097-8994-4120-802f-8e7046de81e7",
   "metadata": {},
   "outputs": [
    {
     "data": {
      "text/html": [
       "<div>\n",
       "<style scoped>\n",
       "    .dataframe tbody tr th:only-of-type {\n",
       "        vertical-align: middle;\n",
       "    }\n",
       "\n",
       "    .dataframe tbody tr th {\n",
       "        vertical-align: top;\n",
       "    }\n",
       "\n",
       "    .dataframe thead th {\n",
       "        text-align: right;\n",
       "    }\n",
       "</style>\n",
       "<table border=\"1\" class=\"dataframe\">\n",
       "  <thead>\n",
       "    <tr style=\"text-align: right;\">\n",
       "      <th></th>\n",
       "      <th>0</th>\n",
       "    </tr>\n",
       "  </thead>\n",
       "  <tbody>\n",
       "    <tr>\n",
       "      <th>1662</th>\n",
       "      <td>0</td>\n",
       "    </tr>\n",
       "    <tr>\n",
       "      <th>53</th>\n",
       "      <td>1</td>\n",
       "    </tr>\n",
       "  </tbody>\n",
       "</table>\n",
       "</div>"
      ],
      "text/plain": [
       "      0\n",
       "1662  0\n",
       "53    1"
      ]
     },
     "execution_count": 263,
     "metadata": {},
     "output_type": "execute_result"
    }
   ],
   "source": [
    "from sklearn.preprocessing import LabelEncoder as le\n",
    "encoder = le()\n",
    "y_code = encoder.fit_transform(y)\n",
    "y_code = pd.DataFrame(y_code)\n",
    "y_code.sample(2)"
   ]
  },
  {
   "cell_type": "code",
   "execution_count": 269,
   "id": "1e63d868-2a7d-4787-8d59-1187caea51a9",
   "metadata": {},
   "outputs": [],
   "source": [
    "from sklearn.model_selection import train_test_split\n",
    "x_train,x_test,y_train,y_test = train_test_split(x_code,y_code)"
   ]
  },
  {
   "cell_type": "code",
   "execution_count": 299,
   "id": "6b23e999-8854-41ca-9a8f-6d73e231b018",
   "metadata": {},
   "outputs": [
    {
     "name": "stdout",
     "output_type": "stream",
     "text": [
      "[3, 5, 7, 9, 11, 13, 15, 17]\n",
      "[0.8048780487804879, 0.9294755877034359, 0.9703315881326353, 0.9405405405405405, 0.9503546099290779, 0.9144981412639405, 0.942652329749104, 0.9395017793594307]\n"
     ]
    }
   ],
   "source": [
    "k_values = []\n",
    "fscore = []\n",
    "for k in range(3,18,2):\n",
    "    th = 0.7\n",
    "    knn = knc(n_neighbors = k)\n",
    "    knn.fit(x_train,y_train)\n",
    "    train_proba = knn.predict_proba(x_train)[:,1]\n",
    "    train_pred = (train_proba >= th).astype('int')\n",
    "    test_proba = knn.predict_proba(x_test)[:,1]\n",
    "    test_pred = (test_proba >= th).astype('int')\n",
    "    k_values.append(k)\n",
    "    fscore.append(f1_score(y_test,test_pred))\n",
    "print(k_values)\n",
    "print(fscore)"
   ]
  },
  {
   "cell_type": "code",
   "execution_count": 277,
   "id": "e5630fd8-5d52-4c11-9ff8-33568e30cd87",
   "metadata": {},
   "outputs": [
    {
     "name": "stdout",
     "output_type": "stream",
     "text": [
      " The best K value is : 7\n"
     ]
    }
   ],
   "source": [
    "# best k value\n",
    "import numpy as np\n",
    "best_k = k_values[fscore.index(max(fscore))]\n",
    "print(f\" The best K value is : {best_k}\")"
   ]
  },
  {
   "cell_type": "code",
   "execution_count": 329,
   "id": "2648635a-99ae-4ccc-8b12-b517700c4b03",
   "metadata": {},
   "outputs": [
    {
     "name": "stdout",
     "output_type": "stream",
     "text": [
      "[0.0, 0.1111111111111111, 0.2222222222222222, 0.3333333333333333, 0.4444444444444444, 0.5555555555555556, 0.6666666666666666, 0.7777777777777777, 0.8888888888888888, 1.0]\n",
      "\n",
      "[0.8049792531120332, 0.8094575799721836, 0.8434782608695652, 0.9107981220657276, 0.959866220735786, 0.959866220735786, 0.9703315881326353, 0.8790786948176583, 0.5665024630541872, 0.5665024630541872]\n"
     ]
    },
    {
     "data": {
      "image/png": "[encoded data removed]",
      "text/plain": [
       "<Figure size 640x480 with 1 Axes>"
      ]
     },
     "metadata": {},
     "output_type": "display_data"
    }
   ],
   "source": [
    "# find best threshold\n",
    "k = 7\n",
    "knn = knc(n_neighbors = k)\n",
    "threshold = []\n",
    "f1score = []\n",
    "for th in np.linspace(0,1,10):\n",
    "    knn.fit(x_train,y_train)\n",
    "    train_proba = knn.predict_proba(x_train)[:,1]\n",
    "    train_pred = (train_proba >= th).astype('int')\n",
    "    test_proba = knn.predict_proba(x_test)[:,1]\n",
    "    test_pred = (test_proba >= th).astype('int')\n",
    "    f1score.append(f1_score(y_test,test_pred))\n",
    "    threshold.append(th)\n",
    "print(threshold)\n",
    "print()\n",
    "print(f1score)\n",
    "plt.plot(threshold,f1score,marker = 'o',label = 'threshold vs f1score')\n",
    "plt.xlabel('Threshold values')\n",
    "plt.ylabel('F1scores')\n",
    "plt.legend()\n",
    "plt.show()"
   ]
  },
  {
   "cell_type": "code",
   "execution_count": 319,
   "id": "bd20521e-0ff5-4ac2-91f1-d20dfb746ad9",
   "metadata": {},
   "outputs": [
    {
     "name": "stdout",
     "output_type": "stream",
     "text": [
      " The best threshold is : 0.7\n"
     ]
    }
   ],
   "source": [
    "best_th = np.round(threshold[f1score.index(max(f1score))],1)\n",
    "print(f\" The best threshold is : {best_th}\")"
   ]
  },
  {
   "cell_type": "code",
   "execution_count": 339,
   "id": "b3cdcfc2-e86c-4ab2-8938-05f77a72575a",
   "metadata": {},
   "outputs": [
    {
     "name": "stdout",
     "output_type": "stream",
     "text": [
      " The f1score is 0.9703315881326353 \n",
      " The accuracy_score is 0.9606481481481481 \n",
      " The precesion_score is 0.9858156028368794 \n",
      " The recall_value is 0.9553264604810997 \n",
      " The confusion matrix is \n",
      "  [[137   4]\n",
      " [ 13 278]]\n"
     ]
    }
   ],
   "source": [
    "# predict the data using hyper parameters k and threshold value\n",
    "from sklearn.metrics import f1_score,accuracy_score,precision_score,confusion_matrix,recall_score\n",
    "k = 7\n",
    "th = 0.7\n",
    "clf = knc(n_neighbors = k)\n",
    "knn = clf.fit(x_train,y_train)\n",
    "test_proba = knn.predict_proba(x_test)[:,1]\n",
    "test_pred = (test_proba >= th).astype('int')\n",
    "f1score = f1_score(y_test,test_pred)\n",
    "precision = precision_score(y_test,test_pred)\n",
    "recall = recall_score(y_test,test_pred)\n",
    "accuracy = accuracy_score(y_test,test_pred)\n",
    "confusion_mat = confusion_matrix(y_test,test_pred)\n",
    "print(f\" The f1score is {f1score} \\n The accuracy_score is {accuracy} \\n The precesion_score is {precision} \\n The recall_value is {recall} \\n The confusion matrix is \\n  {confusion_mat}\")"
   ]
  },
  {
   "cell_type": "markdown",
   "id": "c28f6a27-eb63-4e9f-899d-b56ddc952033",
   "metadata": {},
   "source": [
    "## Logistic Regression"
   ]
  },
  {
   "cell_type": "code",
   "execution_count": 346,
   "id": "39ec2abd-d51b-4700-9bb6-973575644285",
   "metadata": {},
   "outputs": [],
   "source": [
    "from sklearn.linear_model import LogisticRegression\n",
    "from sklearn.metrics import roc_auc_score, RocCurveDisplay"
   ]
  },
  {
   "cell_type": "code",
   "execution_count": 426,
   "id": "e3d521fa-e23c-42dd-a61f-01450e8d85e0",
   "metadata": {},
   "outputs": [],
   "source": [
    "x = x_code[['maint']]\n",
    "y = y_code"
   ]
  },
  {
   "cell_type": "code",
   "execution_count": 428,
   "id": "ea8648c6-1c3a-4820-90df-7b160e2838d3",
   "metadata": {},
   "outputs": [
    {
     "data": {
      "text/html": [
       "<style>#sk-container-id-3 {color: black;}#sk-container-id-3 pre{padding: 0;}#sk-container-id-3 div.sk-toggleable {background-color: white;}#sk-container-id-3 label.sk-toggleable__label {cursor: pointer;display: block;width: 100%;margin-bottom: 0;padding: 0.3em;box-sizing: border-box;text-align: center;}#sk-container-id-3 label.sk-toggleable__label-arrow:before {content: \"▸\";float: left;margin-right: 0.25em;color: #696969;}#sk-container-id-3 label.sk-toggleable__label-arrow:hover:before {color: black;}#sk-container-id-3 div.sk-estimator:hover label.sk-toggleable__label-arrow:before {color: black;}#sk-container-id-3 div.sk-toggleable__content {max-height: 0;max-width: 0;overflow: hidden;text-align: left;background-color: #f0f8ff;}#sk-container-id-3 div.sk-toggleable__content pre {margin: 0.2em;color: black;border-radius: 0.25em;background-color: #f0f8ff;}#sk-container-id-3 input.sk-toggleable__control:checked~div.sk-toggleable__content {max-height: 200px;max-width: 100%;overflow: auto;}#sk-container-id-3 input.sk-toggleable__control:checked~label.sk-toggleable__label-arrow:before {content: \"▾\";}#sk-container-id-3 div.sk-estimator input.sk-toggleable__control:checked~label.sk-toggleable__label {background-color: #d4ebff;}#sk-container-id-3 div.sk-label input.sk-toggleable__control:checked~label.sk-toggleable__label {background-color: #d4ebff;}#sk-container-id-3 input.sk-hidden--visually {border: 0;clip: rect(1px 1px 1px 1px);clip: rect(1px, 1px, 1px, 1px);height: 1px;margin: -1px;overflow: hidden;padding: 0;position: absolute;width: 1px;}#sk-container-id-3 div.sk-estimator {font-family: monospace;background-color: #f0f8ff;border: 1px dotted black;border-radius: 0.25em;box-sizing: border-box;margin-bottom: 0.5em;}#sk-container-id-3 div.sk-estimator:hover {background-color: #d4ebff;}#sk-container-id-3 div.sk-parallel-item::after {content: \"\";width: 100%;border-bottom: 1px solid gray;flex-grow: 1;}#sk-container-id-3 div.sk-label:hover label.sk-toggleable__label {background-color: #d4ebff;}#sk-container-id-3 div.sk-serial::before {content: \"\";position: absolute;border-left: 1px solid gray;box-sizing: border-box;top: 0;bottom: 0;left: 50%;z-index: 0;}#sk-container-id-3 div.sk-serial {display: flex;flex-direction: column;align-items: center;background-color: white;padding-right: 0.2em;padding-left: 0.2em;position: relative;}#sk-container-id-3 div.sk-item {position: relative;z-index: 1;}#sk-container-id-3 div.sk-parallel {display: flex;align-items: stretch;justify-content: center;background-color: white;position: relative;}#sk-container-id-3 div.sk-item::before, #sk-container-id-3 div.sk-parallel-item::before {content: \"\";position: absolute;border-left: 1px solid gray;box-sizing: border-box;top: 0;bottom: 0;left: 50%;z-index: -1;}#sk-container-id-3 div.sk-parallel-item {display: flex;flex-direction: column;z-index: 1;position: relative;background-color: white;}#sk-container-id-3 div.sk-parallel-item:first-child::after {align-self: flex-end;width: 50%;}#sk-container-id-3 div.sk-parallel-item:last-child::after {align-self: flex-start;width: 50%;}#sk-container-id-3 div.sk-parallel-item:only-child::after {width: 0;}#sk-container-id-3 div.sk-dashed-wrapped {border: 1px dashed gray;margin: 0 0.4em 0.5em 0.4em;box-sizing: border-box;padding-bottom: 0.4em;background-color: white;}#sk-container-id-3 div.sk-label label {font-family: monospace;font-weight: bold;display: inline-block;line-height: 1.2em;}#sk-container-id-3 div.sk-label-container {text-align: center;}#sk-container-id-3 div.sk-container {/* jupyter's `normalize.less` sets `[hidden] { display: none; }` but bootstrap.min.css set `[hidden] { display: none !important; }` so we also need the `!important` here to be able to override the default hidden behavior on the sphinx rendered scikit-learn.org. See: https://github.com/scikit-learn/scikit-learn/issues/21755 */display: inline-block !important;position: relative;}#sk-container-id-3 div.sk-text-repr-fallback {display: none;}</style><div id=\"sk-container-id-3\" class=\"sk-top-container\"><div class=\"sk-text-repr-fallback\"><pre>LogisticRegression()</pre><b>In a Jupyter environment, please rerun this cell to show the HTML representation or trust the notebook. <br />On GitHub, the HTML representation is unable to render, please try loading this page with nbviewer.org.</b></div><div class=\"sk-container\" hidden><div class=\"sk-item\"><div class=\"sk-estimator sk-toggleable\"><input class=\"sk-toggleable__control sk-hidden--visually\" id=\"sk-estimator-id-3\" type=\"checkbox\" checked><label for=\"sk-estimator-id-3\" class=\"sk-toggleable__label sk-toggleable__label-arrow\">LogisticRegression</label><div class=\"sk-toggleable__content\"><pre>LogisticRegression()</pre></div></div></div></div></div>"
      ],
      "text/plain": [
       "LogisticRegression()"
      ]
     },
     "execution_count": 428,
     "metadata": {},
     "output_type": "execute_result"
    }
   ],
   "source": [
    "model = LogisticRegression()\n",
    "model.fit(x,y)"
   ]
  },
  {
   "cell_type": "code",
   "execution_count": 430,
   "id": "3b22f1dc-34f7-4c04-9791-6457a150df1d",
   "metadata": {},
   "outputs": [],
   "source": [
    "df1['proba'] = model.predict_proba(x)[:,1]"
   ]
  },
  {
   "cell_type": "code",
   "execution_count": 432,
   "id": "e2a14713-2031-4dfe-acab-d790ad4b79af",
   "metadata": {},
   "outputs": [],
   "source": [
    "df_Roc = []"
   ]
  },
  {
   "cell_type": "code",
   "execution_count": 434,
   "id": "bd6b5eec-af0f-4c84-9dca-4e67503ec3bc",
   "metadata": {},
   "outputs": [
    {
     "name": "stdout",
     "output_type": "stream",
     "text": [
      "    Threshold    TP   TN   FP    FN      TPR       FPR\n",
      "0         0.0  1209    0  518     0  1.00000  1.000000\n",
      "1         0.1  1209    0  518     0  1.00000  1.000000\n",
      "2         0.2  1209    0  518     0  1.00000  1.000000\n",
      "3         0.3  1209    0  518     0  1.00000  1.000000\n",
      "4         0.4  1209    0  518     0  1.00000  1.000000\n",
      "5         0.5  1209    0  518     0  1.00000  1.000000\n",
      "6         0.6  1209    0  518     0  1.00000  1.000000\n",
      "7         0.7   627  282  236   582  0.51861  0.455598\n",
      "8         0.8     0  518    0  1209  0.00000  0.000000\n",
      "9         0.9     0  518    0  1209  0.00000  0.000000\n",
      "10        1.0     0  518    0  1209  0.00000  0.000000\n"
     ]
    }
   ],
   "source": [
    "for threshold in np.arange(0,1.1,0.1):\n",
    "    y_pred = (df['proba']>=threshold).astype('int')\n",
    "    cm = confusion_matrix(y,y_pred)\n",
    "    TP = cm[1, 1] \n",
    "    TN = cm[0, 0]\n",
    "    FP = cm[0, 1] \n",
    "    FN = cm[1, 0] \n",
    "    \n",
    "    # Calculate TPR and FPR\n",
    "    TPR = TP / (TP + FN) \n",
    "    FPR = FP / (FP + TN) \n",
    "    df_Roc.append({'Threshold' : threshold , 'TP':TP,'TN':TN,'FP':FP,'FN':FN,'TPR':TPR,'FPR':FPR})\n",
    "df3_Roc = pd.DataFrame( df_Roc)\n",
    "print(df3_Roc)"
   ]
  },
  {
   "cell_type": "code",
   "execution_count": 436,
   "id": "a28bfd21-450a-44a9-8665-bc93607c689b",
   "metadata": {},
   "outputs": [],
   "source": [
    "# Finding auc value\n",
    "auc = roc_auc_score(y,df['proba'])"
   ]
  },
  {
   "cell_type": "code",
   "execution_count": 438,
   "id": "d8a794a9-d297-4d90-b553-d23d0f36ba08",
   "metadata": {},
   "outputs": [
    {
     "name": "stdout",
     "output_type": "stream",
     "text": [
      "    Threshold    TP   TN   FP    FN      TPR       FPR\n",
      "0         0.0  1209    0  518     0  1.00000  1.000000\n",
      "1         0.1  1209    0  518     0  1.00000  1.000000\n",
      "2         0.2  1209    0  518     0  1.00000  1.000000\n",
      "3         0.3  1209    0  518     0  1.00000  1.000000\n",
      "4         0.4  1209    0  518     0  1.00000  1.000000\n",
      "5         0.5  1209    0  518     0  1.00000  1.000000\n",
      "6         0.6  1209    0  518     0  1.00000  1.000000\n",
      "7         0.7   627  282  236   582  0.51861  0.455598\n",
      "8         0.8     0  518    0  1209  0.00000  0.000000\n",
      "9         0.9     0  518    0  1209  0.00000  0.000000\n",
      "10        1.0     0  518    0  1209  0.00000  0.000000\n",
      "\n",
      "AUC : 0.5472406117567408\n"
     ]
    }
   ],
   "source": [
    "print(df3_Roc)\n",
    "print()\n",
    "print('AUC :',auc)"
   ]
  },
  {
   "cell_type": "code",
   "execution_count": 446,
   "id": "849a7832-c1e8-4360-94f9-30d9e0be7f62",
   "metadata": {},
   "outputs": [
    {
     "data": {
      "image/png": "[encoded data removed]",
      "text/plain": [
       "<Figure size 640x480 with 1 Axes>"
      ]
     },
     "metadata": {},
     "output_type": "display_data"
    }
   ],
   "source": [
    "## plotting\n",
    "plt.plot(df3_Roc['FPR'] , df3_Roc['TPR'] , label = f'AUC = {auc :.2F}',marker = 'o')\n",
    "plt.xlabel('False Positive Rate')\n",
    "plt.ylabel('True Positice Rate')\n",
    "plt.title('ROC Curve')\n",
    "plt.legend()\n",
    "plt.show()"
   ]
  },
  {
   "cell_type": "code",
   "execution_count": 454,
   "id": "abf39070-070b-4d84-bb9f-f85e094ee9f0",
   "metadata": {},
   "outputs": [
    {
     "data": {
      "image/png": "[encoded data removed]",
      "text/plain": [
       "<Figure size 640x480 with 1 Axes>"
      ]
     },
     "metadata": {},
     "output_type": "display_data"
    }
   ],
   "source": [
    "RocCurveDisplay.from_estimator(model, x, y)\n",
    "plt.plot([0, 1], [0, 1], '--', color='gray')\n",
    "plt.title('ROC Curve')\n",
    "plt.show()"
   ]
  },
  {
   "cell_type": "raw",
   "id": "6b93b529-eeff-447c-914d-cf2b3bcbb0cd",
   "metadata": {},
   "source": [
    "The logistic model is not performing well as we can see from the graph that \n",
    "the model is performing very similar as random prediction \n",
    "which can be treated as very poor performance"
   ]
  },
  {
   "cell_type": "code",
   "execution_count": 1,
   "id": "0c5997ff-9b86-4a31-8916-5da5906ec152",
   "metadata": {},
   "outputs": [
    {
     "name": "stdout",
     "output_type": "stream",
     "text": [
      "Accuracy score with Decision tree is 0.7755\n",
      "Accuracy score with KNNClassifier is 0.960\n",
      "Accuracy score with Logistic Regression is 0.547\n"
     ]
    }
   ],
   "source": [
    "print(f'Accuracy score with Decision tree is 0.7755')\n",
    "print(f'Accuracy score with KNNClassifier is 0.960')\n",
    "print(f'Accuracy score with Logistic Regression is 0.547')"
   ]
  },
  {
   "cell_type": "raw",
   "id": "e6d14489-c481-4373-a341-3a788e4754a1",
   "metadata": {},
   "source": [
    "Among all the three models Knn classfication is giving better results for this dataset\n",
    "We will proceed with KNN classification in this dataset"
   ]
  }
 ],
 "metadata": {
  "kernelspec": {
   "display_name": "Python 3 (ipykernel)",
   "language": "python",
   "name": "python3"
  },
  "language_info": {
   "codemirror_mode": {
    "name": "ipython",
    "version": 3
   },
   "file_extension": ".py",
   "mimetype": "text/x-python",
   "name": "python",
   "nbconvert_exporter": "python",
   "pygments_lexer": "ipython3",
   "version": "3.12.4"
  }
 },
 "nbformat": 4,
 "nbformat_minor": 5
}
